{
 "cells": [
  {
   "cell_type": "markdown",
   "metadata": {},
   "source": [
    "## Check python version and tensorflow are all good"
   ]
  },
  {
   "cell_type": "code",
   "execution_count": 2,
   "metadata": {
    "colab": {
     "base_uri": "https://localhost:8080/"
    },
    "executionInfo": {
     "elapsed": 9,
     "status": "ok",
     "timestamp": 1670467276378,
     "user": {
      "displayName": "王瑋",
      "userId": "00360454229684653994"
     },
     "user_tz": -480
    },
    "id": "3BqdxVa4g-7n",
    "outputId": "d6fe4c65-1903-4357-c1dd-0fa14fcf9fc7"
   },
   "outputs": [
    {
     "name": "stdout",
     "output_type": "stream",
     "text": [
      "Python 3.6.8\n",
      "/bin/sh: 1: pyenv: not found\n"
     ]
    }
   ],
   "source": [
    "!python -V\n",
    "!pyenv versions"
   ]
  },
  {
   "cell_type": "code",
   "execution_count": 2,
   "metadata": {},
   "outputs": [
    {
     "name": "stdout",
     "output_type": "stream",
     "text": [
      "Executing: /tmp/tmp.wo6WkVMRQV/gpg.1.sh --keyserver\n",
      "keyserver.ubuntu.com\n",
      "--recv-keys\n",
      "A4B469963BF863CC\n",
      "gpg: requesting key 3BF863CC from hkp server keyserver.ubuntu.com\n",
      "gpg: key 3BF863CC: public key \"cudatools <cudatools@nvidia.com>\" imported\n",
      "gpg: Total number processed: 1\n",
      "gpg:               imported: 1  (RSA: 1)\n"
     ]
    }
   ],
   "source": [
    "# !apt-get install wget\n",
    "# !wget https://developer.download.nvidia.com/compute/cuda/repos/ubuntu1804/x86_64/cuda-keyring_1.0-1_all.deb\n",
    "# !apt-key adv --keyserver keyserver.ubuntu.com --recv-keys F60F4B3D7FA2AF80\n",
    "!apt-key adv --keyserver keyserver.ubuntu.com --recv-keys A4B469963BF863CC\n",
    "\n",
    "# Use command on terminal\n",
    "# !add-apt-repository -y ppa:jblgf0/python\n",
    "# !add-apt-repository --remove ppa:jblgf0/python"
   ]
  },
  {
   "cell_type": "code",
   "execution_count": 3,
   "metadata": {
    "scrolled": true
   },
   "outputs": [
    {
     "name": "stdout",
     "output_type": "stream",
     "text": [
      "Get:1 file:/var/nvinfer-runtime-trt-repo-5.0.2-ga-cuda10.0  InRelease\n",
      "Ign:1 file:/var/nvinfer-runtime-trt-repo-5.0.2-ga-cuda10.0  InRelease\n",
      "Get:2 file:/var/nvinfer-runtime-trt-repo-5.0.2-ga-cuda10.0  Release [574 B]\n",
      "Get:2 file:/var/nvinfer-runtime-trt-repo-5.0.2-ga-cuda10.0  Release [574 B]0m  \u001b[0m\u001b[33m\n",
      "Get:4 https://developer.download.nvidia.com/compute/cuda/repos/ubuntu1604/x86_64  InRelease [1581 B]\n",
      "Get:5 http://security.ubuntu.com/ubuntu xenial-security InRelease [99.8 kB]m   \u001b[0m\u001b[33m\u001b[33m\n",
      "Hit:6 http://archive.ubuntu.com/ubuntu xenial InRelease \u001b[0m\n",
      "Get:7 http://archive.ubuntu.com/ubuntu xenial-updates InRelease [99.8 kB]      \u001b[0m\u001b[33m\n",
      "Ign:8 https://developer.download.nvidia.com/compute/machine-learning/repos/ubuntu1604/x86_64  InRelease\n",
      "Get:9 https://developer.download.nvidia.com/compute/cuda/repos/ubuntu1604/x86_64  Packages [518 kB]\n",
      "Get:10 https://developer.download.nvidia.com/compute/machine-learning/repos/ubuntu1604/x86_64  Release [564 B]\n",
      "Get:11 https://developer.download.nvidia.com/compute/machine-learning/repos/ubuntu1604/x86_64  Release.gpg [833 B]\n",
      "Get:12 https://developer.download.nvidia.com/compute/machine-learning/repos/ubuntu1604/x86_64  Packages [122 kB]\n",
      "Get:13 http://security.ubuntu.com/ubuntu xenial-security/main amd64 Packages [2051 kB]3m\u001b[33m\u001b[33m\n",
      "Get:14 http://archive.ubuntu.com/ubuntu xenial-backports InRelease [97.4 kB]\n",
      "Get:15 http://archive.ubuntu.com/ubuntu xenial-updates/main amd64 Packages [2560 kB]\n",
      "Get:16 http://security.ubuntu.com/ubuntu xenial-security/restricted amd64 Packages [15.9 kB][33m\u001b[33m\u001b[33m\u001b[33m\u001b[33m\u001b[33m\u001b[33m\n",
      "Get:17 http://security.ubuntu.com/ubuntu xenial-security/universe amd64 Packages [984 kB]\n",
      "Get:18 http://archive.ubuntu.com/ubuntu xenial-updates/restricted amd64 Packages [16.4 kB]33m\u001b[33m\u001b[33m\u001b[33m\n",
      "Get:19 http://archive.ubuntu.com/ubuntu xenial-updates/universe amd64 Packages [1544 kB]\u001b[33m\n",
      "Get:20 http://security.ubuntu.com/ubuntu xenial-security/multiverse amd64 Packages [8820 B]3m\n",
      "Get:21 http://archive.ubuntu.com/ubuntu xenial-updates/multiverse amd64 Packages [26.2 kB]33m\u001b[33m\u001b[33m\u001b[33m\u001b[33m\u001b[33m\u001b[33m\u001b[33m\u001b[33m\n",
      "Get:22 http://archive.ubuntu.com/ubuntu xenial-backports/main amd64 Packages [10.9 kB]3m\u001b[33m\n",
      "Get:23 http://archive.ubuntu.com/ubuntu xenial-backports/universe amd64 Packages [12.7 kB]\n",
      "Fetched 8170 kB in 14s (583 kB/s)                                              \u001b[0m\u001b[33m\n",
      "Reading package lists... Done\n",
      "Building dependency tree       \n",
      "Reading state information... Done\n",
      "124 packages can be upgraded. Run 'apt list --upgradable' to see them.\n",
      "Reading package lists... Done\n",
      "Building dependency tree       \n",
      "Reading state information... Done\n",
      "build-essential is already the newest version (12.1ubuntu2).\n",
      "The following additional packages will be installed:\n",
      "  libnspr4 libnspr4-dev libnss3 libnss3-nssdb libreadline6-dev libssl-doc\n",
      "  libssl1.0.0 libtinfo-dev zlib1g\n",
      "Suggested packages:\n",
      "  ncurses-doc readline-doc\n",
      "The following NEW packages will be installed:\n",
      "  libffi-dev libgdbm-dev libncurses5-dev libnspr4 libnspr4-dev libnss3\n",
      "  libnss3-dev libnss3-nssdb libreadline-dev libreadline6-dev libssl-dev\n",
      "  libssl-doc libtinfo-dev wget\n",
      "The following packages will be upgraded:\n",
      "  libssl1.0.0 zlib1g zlib1g-dev\n",
      "3 upgraded, 14 newly installed, 0 to remove and 121 not upgraded.\n",
      "Need to get 6395 kB of archives.\n",
      "After this operation, 20.8 MB of additional disk space will be used.\n",
      "Get:1 http://archive.ubuntu.com/ubuntu xenial-updates/main amd64 zlib1g-dev amd64 1:1.2.8.dfsg-2ubuntu4.3 [167 kB]\n",
      "Get:2 http://archive.ubuntu.com/ubuntu xenial-updates/main amd64 zlib1g amd64 1:1.2.8.dfsg-2ubuntu4.3 [51.2 kB]\n",
      "Get:3 http://archive.ubuntu.com/ubuntu xenial-updates/main amd64 libssl1.0.0 amd64 1.0.2g-1ubuntu4.20 [1083 kB]\n",
      "Get:4 http://archive.ubuntu.com/ubuntu xenial-updates/main amd64 wget amd64 1.17.1-1ubuntu1.5 [299 kB]\n",
      "Get:5 http://archive.ubuntu.com/ubuntu xenial/main amd64 libgdbm-dev amd64 1.8.3-13.1 [35.9 kB]\n",
      "Get:6 http://archive.ubuntu.com/ubuntu xenial/main amd64 libtinfo-dev amd64 6.0+20160213-1ubuntu1 [77.4 kB]\n",
      "Get:7 http://archive.ubuntu.com/ubuntu xenial/main amd64 libncurses5-dev amd64 6.0+20160213-1ubuntu1 [175 kB]\n",
      "Get:8 http://archive.ubuntu.com/ubuntu xenial-updates/main amd64 libnspr4 amd64 2:4.13.1-0ubuntu0.16.04.1 [112 kB]\n",
      "Get:9 http://archive.ubuntu.com/ubuntu xenial-updates/main amd64 libnspr4-dev amd64 2:4.13.1-0ubuntu0.16.04.1 [213 kB]\n",
      "Get:10 http://archive.ubuntu.com/ubuntu xenial-updates/main amd64 libnss3-nssdb all 2:3.28.4-0ubuntu0.16.04.14 [10.6 kB]\n",
      "Get:11 http://archive.ubuntu.com/ubuntu xenial-updates/main amd64 libnss3 amd64 2:3.28.4-0ubuntu0.16.04.14 [1232 kB]\n",
      "Get:12 http://archive.ubuntu.com/ubuntu xenial-updates/main amd64 libnss3-dev amd64 2:3.28.4-0ubuntu0.16.04.14 [230 kB]\n",
      "Get:13 http://archive.ubuntu.com/ubuntu xenial/main amd64 libreadline6-dev amd64 6.3-8ubuntu2 [124 kB]\n",
      "Get:14 http://archive.ubuntu.com/ubuntu xenial/main amd64 libreadline-dev amd64 6.3-8ubuntu2 [992 B]\n",
      "Get:15 http://archive.ubuntu.com/ubuntu xenial-updates/main amd64 libssl-dev amd64 1.0.2g-1ubuntu4.20 [1347 kB]\n",
      "Get:16 http://archive.ubuntu.com/ubuntu xenial-updates/main amd64 libssl-doc all 1.0.2g-1ubuntu4.20 [1077 kB][33m\u001b[33m\u001b[33m\n",
      "Get:17 http://archive.ubuntu.com/ubuntu xenial/main amd64 libffi-dev amd64 3.2.1-4 [161 kB]3m\u001b[33m\u001b[33m\u001b[33m\u001b[33m\u001b[33m\n",
      "Fetched 6395 kB in 18s (337 kB/s)                                              \u001b[0m\u001b[33m\n",
      "debconf: delaying package configuration, since apt-utils is not installed\n",
      "\n",
      "(Reading database ... 15107 files and directories currently installed.)\n",
      "Preparing to unpack .../zlib1g-dev_1%3a1.2.8.dfsg-2ubuntu4.3_amd64.deb ...\n",
      "\u001b7\u001b[24;0f\u001b[42m\u001b[30mProgress: [  0%]\u001b[49m\u001b[39m [..........................................................] \u001b8\u001b7\u001b[24;0f\u001b[42m\u001b[30mProgress: [  1%]\u001b[49m\u001b[39m [#.........................................................] \u001b8Unpacking zlib1g-dev:amd64 (1:1.2.8.dfsg-2ubuntu4.3) over (1:1.2.8.dfsg-2ubuntu4.1) ...\n",
      "\u001b7\u001b[24;0f\u001b[42m\u001b[30mProgress: [  2%]\u001b[49m\u001b[39m [##........................................................] \u001b8\u001b7\u001b[24;0f\u001b[42m\u001b[30mProgress: [  3%]\u001b[49m\u001b[39m [###.......................................................] \u001b8Preparing to unpack .../zlib1g_1%3a1.2.8.dfsg-2ubuntu4.3_amd64.deb ...\n",
      "\u001b7\u001b[24;0f\u001b[42m\u001b[30mProgress: [  4%]\u001b[49m\u001b[39m [###.......................................................] \u001b8Unpacking zlib1g:amd64 (1:1.2.8.dfsg-2ubuntu4.3) over (1:1.2.8.dfsg-2ubuntu4.1) ...\n",
      "\u001b7\u001b[24;0f\u001b[42m\u001b[30mProgress: [  5%]\u001b[49m\u001b[39m [####......................................................] \u001b8\u001b7\u001b[24;0f\u001b[42m\u001b[30mProgress: [  6%]\u001b[49m\u001b[39m [#####.....................................................] \u001b8Processing triggers for libc-bin (2.23-0ubuntu11) ...\n",
      "/sbin/ldconfig.real: /usr/lib/x86_64-linux-gnu/libcuda.so.1 is not a symbolic link\n",
      "\n",
      "Setting up zlib1g:amd64 (1:1.2.8.dfsg-2ubuntu4.3) ...\n",
      "\u001b7\u001b[24;0f\u001b[42m\u001b[30mProgress: [  8%]\u001b[49m\u001b[39m [#####.....................................................] \u001b8\u001b7\u001b[24;0f\u001b[42m\u001b[30mProgress: [  9%]\u001b[49m\u001b[39m [######....................................................] \u001b8Processing triggers for libc-bin (2.23-0ubuntu11) ...\n",
      "/sbin/ldconfig.real: /usr/lib/x86_64-linux-gnu/libcuda.so.1 is not a symbolic link\n",
      "\n",
      "(Reading database ... 15107 files and directories currently installed.)\n",
      "Preparing to unpack .../libssl1.0.0_1.0.2g-1ubuntu4.20_amd64.deb ...\n",
      "\u001b7\u001b[24;0f\u001b[42m\u001b[30mProgress: [ 10%]\u001b[49m\u001b[39m [#######...................................................] \u001b8Unpacking libssl1.0.0:amd64 (1.0.2g-1ubuntu4.20) over (1.0.2g-1ubuntu4.15) ...\n",
      "\u001b7\u001b[24;0f\u001b[42m\u001b[30mProgress: [ 11%]\u001b[49m\u001b[39m [#######...................................................] \u001b8\u001b7\u001b[24;0f\u001b[42m\u001b[30mProgress: [ 12%]\u001b[49m\u001b[39m [########..................................................] \u001b8Selecting previously unselected package wget.\n",
      "Preparing to unpack .../wget_1.17.1-1ubuntu1.5_amd64.deb ...\n",
      "\u001b7\u001b[24;0f\u001b[42m\u001b[30mProgress: [ 13%]\u001b[49m\u001b[39m [#########.................................................] \u001b8Unpacking wget (1.17.1-1ubuntu1.5) ...\n",
      "\u001b7\u001b[24;0f\u001b[42m\u001b[30mProgress: [ 15%]\u001b[49m\u001b[39m [#########.................................................] \u001b8\u001b7\u001b[24;0f\u001b[42m\u001b[30mProgress: [ 16%]\u001b[49m\u001b[39m [##########................................................] \u001b8Selecting previously unselected package libgdbm-dev.\n",
      "Preparing to unpack .../libgdbm-dev_1.8.3-13.1_amd64.deb ...\n",
      "\u001b7\u001b[24;0f\u001b[42m\u001b[30mProgress: [ 17%]\u001b[49m\u001b[39m [###########...............................................] \u001b8Unpacking libgdbm-dev (1.8.3-13.1) ...\n"
     ]
    },
    {
     "name": "stdout",
     "output_type": "stream",
     "text": [
      "\u001b7\u001b[24;0f\u001b[42m\u001b[30mProgress: [ 18%]\u001b[49m\u001b[39m [###########...............................................] \u001b8\u001b7\u001b[24;0f\u001b[42m\u001b[30mProgress: [ 19%]\u001b[49m\u001b[39m [############..............................................] \u001b8Selecting previously unselected package libtinfo-dev:amd64.\n",
      "Preparing to unpack .../libtinfo-dev_6.0+20160213-1ubuntu1_amd64.deb ...\n",
      "\u001b7\u001b[24;0f\u001b[42m\u001b[30mProgress: [ 20%]\u001b[49m\u001b[39m [#############.............................................] \u001b8Unpacking libtinfo-dev:amd64 (6.0+20160213-1ubuntu1) ...\n",
      "\u001b7\u001b[24;0f\u001b[42m\u001b[30mProgress: [ 22%]\u001b[49m\u001b[39m [#############.............................................] \u001b8\u001b7\u001b[24;0f\u001b[42m\u001b[30mProgress: [ 23%]\u001b[49m\u001b[39m [##############............................................] \u001b8Selecting previously unselected package libncurses5-dev:amd64.\n",
      "Preparing to unpack .../libncurses5-dev_6.0+20160213-1ubuntu1_amd64.deb ...\n",
      "\u001b7\u001b[24;0f\u001b[42m\u001b[30mProgress: [ 24%]\u001b[49m\u001b[39m [###############...........................................] \u001b8Unpacking libncurses5-dev:amd64 (6.0+20160213-1ubuntu1) ...\n",
      "\u001b7\u001b[24;0f\u001b[42m\u001b[30mProgress: [ 25%]\u001b[49m\u001b[39m [###############...........................................] \u001b8\u001b7\u001b[24;0f\u001b[42m\u001b[30mProgress: [ 26%]\u001b[49m\u001b[39m [################..........................................] \u001b8Selecting previously unselected package libnspr4:amd64.\n",
      "Preparing to unpack .../libnspr4_2%3a4.13.1-0ubuntu0.16.04.1_amd64.deb ...\n",
      "\u001b7\u001b[24;0f\u001b[42m\u001b[30mProgress: [ 27%]\u001b[49m\u001b[39m [#################.........................................] \u001b8Unpacking libnspr4:amd64 (2:4.13.1-0ubuntu0.16.04.1) ...\n",
      "\u001b7\u001b[24;0f\u001b[42m\u001b[30mProgress: [ 29%]\u001b[49m\u001b[39m [#################.........................................] \u001b8\u001b7\u001b[24;0f\u001b[42m\u001b[30mProgress: [ 30%]\u001b[49m\u001b[39m [##################........................................] \u001b8Selecting previously unselected package libnspr4-dev.\n",
      "Preparing to unpack .../libnspr4-dev_2%3a4.13.1-0ubuntu0.16.04.1_amd64.deb ...\n",
      "\u001b7\u001b[24;0f\u001b[42m\u001b[30mProgress: [ 31%]\u001b[49m\u001b[39m [###################.......................................] \u001b8Unpacking libnspr4-dev (2:4.13.1-0ubuntu0.16.04.1) ...\n",
      "\u001b7\u001b[24;0f\u001b[42m\u001b[30mProgress: [ 32%]\u001b[49m\u001b[39m [###################.......................................] \u001b8\u001b7\u001b[24;0f\u001b[42m\u001b[30mProgress: [ 33%]\u001b[49m\u001b[39m [####################......................................] \u001b8Selecting previously unselected package libnss3-nssdb.\n",
      "Preparing to unpack .../libnss3-nssdb_2%3a3.28.4-0ubuntu0.16.04.14_all.deb ...\n",
      "\u001b7\u001b[24;0f\u001b[42m\u001b[30mProgress: [ 34%]\u001b[49m\u001b[39m [#####################.....................................] \u001b8Unpacking libnss3-nssdb (2:3.28.4-0ubuntu0.16.04.14) ...\n",
      "\u001b7\u001b[24;0f\u001b[42m\u001b[30mProgress: [ 36%]\u001b[49m\u001b[39m [#####################.....................................] \u001b8\u001b7\u001b[24;0f\u001b[42m\u001b[30mProgress: [ 37%]\u001b[49m\u001b[39m [######################....................................] \u001b8Selecting previously unselected package libnss3:amd64.\n",
      "Preparing to unpack .../libnss3_2%3a3.28.4-0ubuntu0.16.04.14_amd64.deb ...\n",
      "\u001b7\u001b[24;0f\u001b[42m\u001b[30mProgress: [ 38%]\u001b[49m\u001b[39m [#######################...................................] \u001b8Unpacking libnss3:amd64 (2:3.28.4-0ubuntu0.16.04.14) ...\n",
      "\u001b7\u001b[24;0f\u001b[42m\u001b[30mProgress: [ 39%]\u001b[49m\u001b[39m [#######################...................................] \u001b8\u001b7\u001b[24;0f\u001b[42m\u001b[30mProgress: [ 40%]\u001b[49m\u001b[39m [########################..................................] \u001b8Selecting previously unselected package libnss3-dev:amd64.\n",
      "Preparing to unpack .../libnss3-dev_2%3a3.28.4-0ubuntu0.16.04.14_amd64.deb ...\n",
      "\u001b7\u001b[24;0f\u001b[42m\u001b[30mProgress: [ 41%]\u001b[49m\u001b[39m [#########################.................................] \u001b8Unpacking libnss3-dev:amd64 (2:3.28.4-0ubuntu0.16.04.14) ...\n",
      "\u001b7\u001b[24;0f\u001b[42m\u001b[30mProgress: [ 43%]\u001b[49m\u001b[39m [#########################.................................] \u001b8\u001b7\u001b[24;0f\u001b[42m\u001b[30mProgress: [ 44%]\u001b[49m\u001b[39m [##########################................................] \u001b8Selecting previously unselected package libreadline6-dev:amd64.\n",
      "Preparing to unpack .../libreadline6-dev_6.3-8ubuntu2_amd64.deb ...\n",
      "\u001b7\u001b[24;0f\u001b[42m\u001b[30mProgress: [ 45%]\u001b[49m\u001b[39m [###########################...............................] \u001b8Unpacking libreadline6-dev:amd64 (6.3-8ubuntu2) ...\n",
      "\u001b7\u001b[24;0f\u001b[42m\u001b[30mProgress: [ 46%]\u001b[49m\u001b[39m [###########################...............................] \u001b8\u001b7\u001b[24;0f\u001b[42m\u001b[30mProgress: [ 47%]\u001b[49m\u001b[39m [############################..............................] \u001b8Selecting previously unselected package libreadline-dev:amd64.\n",
      "Preparing to unpack .../libreadline-dev_6.3-8ubuntu2_amd64.deb ...\n",
      "\u001b7\u001b[24;0f\u001b[42m\u001b[30mProgress: [ 48%]\u001b[49m\u001b[39m [#############################.............................] \u001b8Unpacking libreadline-dev:amd64 (6.3-8ubuntu2) ...\n",
      "\u001b7\u001b[24;0f\u001b[42m\u001b[30mProgress: [ 50%]\u001b[49m\u001b[39m [#############################.............................] \u001b8\u001b7\u001b[24;0f\u001b[42m\u001b[30mProgress: [ 51%]\u001b[49m\u001b[39m [##############################............................] \u001b8Selecting previously unselected package libssl-dev:amd64.\n",
      "Preparing to unpack .../libssl-dev_1.0.2g-1ubuntu4.20_amd64.deb ...\n",
      "\u001b7\u001b[24;0f\u001b[42m\u001b[30mProgress: [ 52%]\u001b[49m\u001b[39m [###############################...........................] \u001b8Unpacking libssl-dev:amd64 (1.0.2g-1ubuntu4.20) ...\n",
      "\u001b7\u001b[24;0f\u001b[42m\u001b[30mProgress: [ 53%]\u001b[49m\u001b[39m [################################..........................] \u001b8\u001b7\u001b[24;0f\u001b[42m\u001b[30mProgress: [ 54%]\u001b[49m\u001b[39m [################################..........................] \u001b8Selecting previously unselected package libssl-doc.\n",
      "Preparing to unpack .../libssl-doc_1.0.2g-1ubuntu4.20_all.deb ...\n",
      "\u001b7\u001b[24;0f\u001b[42m\u001b[30mProgress: [ 55%]\u001b[49m\u001b[39m [#################################.........................] \u001b8Unpacking libssl-doc (1.0.2g-1ubuntu4.20) ...\n",
      "\u001b7\u001b[24;0f\u001b[42m\u001b[30mProgress: [ 56%]\u001b[49m\u001b[39m [##################################........................] \u001b8\u001b7\u001b[24;0f\u001b[42m\u001b[30mProgress: [ 58%]\u001b[49m\u001b[39m [##################################........................] \u001b8Selecting previously unselected package libffi-dev:amd64.\n",
      "Preparing to unpack .../libffi-dev_3.2.1-4_amd64.deb ...\n",
      "\u001b7\u001b[24;0f\u001b[42m\u001b[30mProgress: [ 59%]\u001b[49m\u001b[39m [###################################.......................] \u001b8Unpacking libffi-dev:amd64 (3.2.1-4) ...\n",
      "\u001b7\u001b[24;0f\u001b[42m\u001b[30mProgress: [ 60%]\u001b[49m\u001b[39m [####################################......................] \u001b8\u001b7\u001b[24;0f\u001b[42m\u001b[30mProgress: [ 61%]\u001b[49m\u001b[39m [####################################......................] \u001b8Processing triggers for libc-bin (2.23-0ubuntu11) ...\n",
      "/sbin/ldconfig.real: /usr/lib/x86_64-linux-gnu/libcuda.so.1 is not a symbolic link\n",
      "\n",
      "Setting up zlib1g-dev:amd64 (1:1.2.8.dfsg-2ubuntu4.3) ...\n",
      "\u001b7\u001b[24;0f\u001b[42m\u001b[30mProgress: [ 62%]\u001b[49m\u001b[39m [#####################################.....................] \u001b8\u001b7\u001b[24;0f\u001b[42m\u001b[30mProgress: [ 63%]\u001b[49m\u001b[39m [######################################....................] \u001b8Setting up libssl1.0.0:amd64 (1.0.2g-1ubuntu4.20) ...\n",
      "\u001b7\u001b[24;0f\u001b[42m\u001b[30mProgress: [ 65%]\u001b[49m\u001b[39m [######################################....................] \u001b8debconf: unable to initialize frontend: Dialog\n",
      "debconf: (No usable dialog-like program is installed, so the dialog based frontend cannot be used. at /usr/share/perl5/Debconf/FrontEnd/Dialog.pm line 76.)\n",
      "debconf: falling back to frontend: Readline\n",
      "\u001b7\u001b[24;0f\u001b[42m\u001b[30mProgress: [ 66%]\u001b[49m\u001b[39m [#######################################...................] \u001b8Setting up wget (1.17.1-1ubuntu1.5) ...\n",
      "\u001b7\u001b[24;0f\u001b[42m\u001b[30mProgress: [ 67%]\u001b[49m\u001b[39m [########################################..................] \u001b8\u001b7\u001b[24;0f\u001b[42m\u001b[30mProgress: [ 68%]\u001b[49m\u001b[39m [########################################..................] \u001b8Setting up libgdbm-dev (1.8.3-13.1) ...\n",
      "\u001b7\u001b[24;0f\u001b[42m\u001b[30mProgress: [ 69%]\u001b[49m\u001b[39m [#########################################.................] \u001b8\u001b7\u001b[24;0f\u001b[42m\u001b[30mProgress: [ 70%]\u001b[49m\u001b[39m [##########################################................] \u001b8Setting up libtinfo-dev:amd64 (6.0+20160213-1ubuntu1) ...\n",
      "\u001b7\u001b[24;0f\u001b[42m\u001b[30mProgress: [ 72%]\u001b[49m\u001b[39m [##########################################................] \u001b8\u001b7\u001b[24;0f\u001b[42m\u001b[30mProgress: [ 73%]\u001b[49m\u001b[39m [###########################################...............] \u001b8Setting up libncurses5-dev:amd64 (6.0+20160213-1ubuntu1) ...\n",
      "\u001b7\u001b[24;0f\u001b[42m\u001b[30mProgress: [ 74%]\u001b[49m\u001b[39m [############################################..............] \u001b8\u001b7\u001b[24;0f\u001b[42m\u001b[30mProgress: [ 75%]\u001b[49m\u001b[39m [############################################..............] \u001b8Setting up libnspr4:amd64 (2:4.13.1-0ubuntu0.16.04.1) ...\n"
     ]
    },
    {
     "name": "stdout",
     "output_type": "stream",
     "text": [
      "\u001b7\u001b[24;0f\u001b[42m\u001b[30mProgress: [ 76%]\u001b[49m\u001b[39m [#############################################.............] \u001b8\u001b7\u001b[24;0f\u001b[42m\u001b[30mProgress: [ 77%]\u001b[49m\u001b[39m [##############################################............] \u001b8Setting up libnspr4-dev (2:4.13.1-0ubuntu0.16.04.1) ...\n",
      "\u001b7\u001b[24;0f\u001b[42m\u001b[30mProgress: [ 79%]\u001b[49m\u001b[39m [##############################################............] \u001b8\u001b7\u001b[24;0f\u001b[42m\u001b[30mProgress: [ 80%]\u001b[49m\u001b[39m [###############################################...........] \u001b8Setting up libreadline6-dev:amd64 (6.3-8ubuntu2) ...\n",
      "\u001b7\u001b[24;0f\u001b[42m\u001b[30mProgress: [ 81%]\u001b[49m\u001b[39m [################################################..........] \u001b8\u001b7\u001b[24;0f\u001b[42m\u001b[30mProgress: [ 82%]\u001b[49m\u001b[39m [################################################..........] \u001b8Setting up libreadline-dev:amd64 (6.3-8ubuntu2) ...\n",
      "\u001b7\u001b[24;0f\u001b[42m\u001b[30mProgress: [ 83%]\u001b[49m\u001b[39m [#################################################.........] \u001b8\u001b7\u001b[24;0f\u001b[42m\u001b[30mProgress: [ 84%]\u001b[49m\u001b[39m [##################################################........] \u001b8Setting up libssl-dev:amd64 (1.0.2g-1ubuntu4.20) ...\n",
      "\u001b7\u001b[24;0f\u001b[42m\u001b[30mProgress: [ 86%]\u001b[49m\u001b[39m [##################################################........] \u001b8\u001b7\u001b[24;0f\u001b[42m\u001b[30mProgress: [ 87%]\u001b[49m\u001b[39m [###################################################.......] \u001b8Setting up libssl-doc (1.0.2g-1ubuntu4.20) ...\n",
      "\u001b7\u001b[24;0f\u001b[42m\u001b[30mProgress: [ 88%]\u001b[49m\u001b[39m [####################################################......] \u001b8\u001b7\u001b[24;0f\u001b[42m\u001b[30mProgress: [ 89%]\u001b[49m\u001b[39m [####################################################......] \u001b8Setting up libffi-dev:amd64 (3.2.1-4) ...\n",
      "\u001b7\u001b[24;0f\u001b[42m\u001b[30mProgress: [ 90%]\u001b[49m\u001b[39m [#####################################################.....] \u001b8\u001b7\u001b[24;0f\u001b[42m\u001b[30mProgress: [ 91%]\u001b[49m\u001b[39m [######################################################....] \u001b8Setting up libnss3-nssdb (2:3.28.4-0ubuntu0.16.04.14) ...\n",
      "\u001b7\u001b[24;0f\u001b[42m\u001b[30mProgress: [ 93%]\u001b[49m\u001b[39m [######################################################....] \u001b8\u001b7\u001b[24;0f\u001b[42m\u001b[30mProgress: [ 94%]\u001b[49m\u001b[39m [#######################################################...] \u001b8Setting up libnss3:amd64 (2:3.28.4-0ubuntu0.16.04.14) ...\n",
      "\u001b7\u001b[24;0f\u001b[42m\u001b[30mProgress: [ 95%]\u001b[49m\u001b[39m [########################################################..] \u001b8\u001b7\u001b[24;0f\u001b[42m\u001b[30mProgress: [ 96%]\u001b[49m\u001b[39m [########################################################..] \u001b8Setting up libnss3-dev:amd64 (2:3.28.4-0ubuntu0.16.04.14) ...\n",
      "\u001b7\u001b[24;0f\u001b[42m\u001b[30mProgress: [ 97%]\u001b[49m\u001b[39m [#########################################################.] \u001b8\u001b7\u001b[24;0f\u001b[42m\u001b[30mProgress: [ 98%]\u001b[49m\u001b[39m [##########################################################] \u001b8Processing triggers for libc-bin (2.23-0ubuntu11) ...\n",
      "/sbin/ldconfig.real: /usr/lib/x86_64-linux-gnu/libcuda.so.1 is not a symbolic link\n",
      "\n",
      "\n",
      "\u001b7\u001b[0;24r\u001b8\u001b[1A\u001b[J--2022-12-24 17:34:53--  https://www.python.org/ftp/python/3.7.16/Python-3.7.16.tgz\n",
      "Resolving www.python.org (www.python.org)... 151.101.76.223, ::ffff:151.101.76.223, 2a04:4e42:12::223\n",
      "Connecting to www.python.org (www.python.org)|151.101.76.223|:443... connected.\n",
      "HTTP request sent, awaiting response... 200 OK\n",
      "Length: 24071007 (23M) [application/octet-stream]\n",
      "Saving to: ‘Python-3.7.16.tgz’\n",
      "\n",
      "Python-3.7.16.tgz   100%[===================>]  22.96M  6.49MB/s    in 3.6s    \n",
      "\n",
      "2022-12-24 17:34:57 (6.31 MB/s) - ‘Python-3.7.16.tgz’ saved [24071007/24071007]\n",
      "\n"
     ]
    }
   ],
   "source": [
    "!apt update -y\n",
    "!apt install build-essential zlib1g-dev libncurses5-dev libgdbm-dev libnss3-dev libssl-dev libreadline-dev libffi-dev wget -y\n",
    "!cd /root\n",
    "!wget https://www.python.org/ftp/python/3.7.16/Python-3.7.16.tgz\n",
    "# from IPython.display import clear_output \n",
    "# clear_output()\n",
    "# !update-alternatives --install /usr/bin/python3 python3 /usr/bin/python3.6 2\n",
    "# !update-alternatives --install /usr/bin/python3 python3 /usr/bin/python3.5 1\n",
    "# !sudo update-alternatives --config python3"
   ]
  },
  {
   "cell_type": "code",
   "execution_count": 2,
   "metadata": {
    "colab": {
     "base_uri": "https://localhost:8080/"
    },
    "executionInfo": {
     "elapsed": 1053,
     "status": "ok",
     "timestamp": 1670467959151,
     "user": {
      "displayName": "王瑋",
      "userId": "00360454229684653994"
     },
     "user_tz": -480
    },
    "id": "4k8WOcFvzdUX",
    "outputId": "8f45c18c-a5c5-4ebe-e278-4dbd16d96753"
   },
   "outputs": [
    {
     "name": "stdout",
     "output_type": "stream",
     "text": [
      "1.15.0\n",
      "/device:GPU:0\n"
     ]
    }
   ],
   "source": [
    "import tensorflow as tf\n",
    "print(tf.__version__)\n",
    "print(tf.test.gpu_device_name())"
   ]
  },
  {
   "cell_type": "code",
   "execution_count": 3,
   "metadata": {
    "id": "9A_UPmJRWzQk"
   },
   "outputs": [],
   "source": [
    "import pandas as pd\n",
    "import numpy as np\n",
    "import pysbd # Sentence segmenter\n",
    "import time, random, os, sys"
   ]
  },
  {
   "cell_type": "code",
   "execution_count": 5,
   "metadata": {},
   "outputs": [
    {
     "name": "stdout",
     "output_type": "stream",
     "text": [
      "esgBERT input is ready!\n"
     ]
    },
    {
     "data": {
      "text/plain": [
       "0     Oceans absorb up to 3 billion metric tons  of ...\n",
       "1     This is a problem because when carbon dioxide ...\n",
       "2     Now, due to the rapid increase in global carbo...\n",
       "3     This would spell the end for numerous marine o...\n",
       "4     Indeed, a thriving ocean is essential to the l...\n",
       "                            ...                        \n",
       "85    Kaiser Aluminum Corporation (NASDAQ: KALU), a ...\n",
       "86    The report is available on the Company’s websi...\n",
       "87    “We continued to build on the core elements of...\n",
       "88    “Our accomplishments are a result of our conti...\n",
       "89    Harvey continued, “Looking ahead, we will rema...\n",
       "Length: 90, dtype: object"
      ]
     },
     "execution_count": 5,
     "metadata": {},
     "output_type": "execute_result"
    }
   ],
   "source": [
    "# Import mongodb_forRead.py & PredictModel.py & secret.py\n",
    "from modules.mongodb_forRead import MongoDB\n",
    "\n",
    "# Database connection\n",
    "mongoDB_connection = MongoDB()\n",
    "currTime = int(time.time())\n",
    "today = time.localtime(currTime)\n",
    "today_to_timestamp = time.mktime((today.tm_year, today.tm_mon, today.tm_mday,0,0,0,0,0,0)) # mktime -> GTC+8 timestamp\n",
    "prevDayNews = mongoDB_connection.read_prev24hrs_news(today_to_timestamp)\n",
    "if not prevDayNews: \n",
    "    print(\"There is no esg-related news today!\")\n",
    "    sys.exit()\n",
    "\n",
    "# ESG News sentence segmenter\n",
    "esgNews = pd.Series([],dtype=pd.StringDtype()) \n",
    "seg = pysbd.Segmenter(language=\"en\", clean=False)\n",
    "for eachNew in prevDayNews:\n",
    "    newSentences = seg.segment(eachNew)\n",
    "    esgNews = pd.concat([esgNews, pd.Series([sentence.replace('\\xa0',' ') for sentence in newSentences])], ignore_index=True)\n",
    "\n",
    "# Write to TSV file\n",
    "date = str(today.tm_year) + str(today.tm_mon) + str(today.tm_mday)\n",
    "# esgNews.to_csv(\"./esgBERT_input/esgNews_{}.tsv\".format(date), sep='\\t', header=False) # Don't try to write csv in playground\n",
    "print(\"esgBERT input is ready!\")\n",
    "esgNews"
   ]
  },
  {
   "cell_type": "code",
   "execution_count": null,
   "metadata": {
    "id": "8U_2olNaXqw9"
   },
   "outputs": [],
   "source": [
    "class PredictModel:\n",
    "    def __init__(self):\n",
    "        self.config_path = \"./predict_folder_config.json\"\n",
    "        with open('./import_data/label.json') as f:\n",
    "            label_dict = json.load(f)\n",
    "        # self.model_list = ['Carbon Emissions', 'Board', 'Privacy and Data Security', 'Supply Chain Labor Standards']\n",
    "        self.model_list = list(label_dict.values())[:-1]\n",
    "        self.msci_esg = {'Environment': ['Biodiversity and Land Use', 'Carbon Emissions', 'Climate Change Vulnerability', 'Electronic Waste', 'Financing Environmental Impact', 'Opportunities in Clean Tech', 'Opportunities in Green Building', 'Opportunities in Renewable Energy', 'Packaging Material and Waste', 'Product Carbon Footprint', 'Raw Material Sourcing', 'Toxic Emissions and Waste', 'Water Stress'], 'Social': ['Access to Communications', 'Access to Finance', 'Access to Health Care', 'Chemical Safety', 'Community Relations', 'Controversial Sourcing', 'Financial Product Safety', 'Health and Demographic Risk', 'Health and Safety', 'Human Capital Development', 'Labor Management', 'Opportunities in Nutrition and Health', 'Privacy and Data Security', 'Product Safety and Quality', 'Responsible Investment', 'Supply Chain Labor Standards'], 'Governance' : ['Accounting', 'Board', 'Business Ethics', 'Ownership and Control', 'Pay', 'Tax Transparency'] }\n",
    "        with open(self.config_path) as f:\n",
    "            self.config_dict = json.load(f)\n",
    "\n",
    "    def get_config(self):\n",
    "        with open(self.config_path) as f:\n",
    "            config_dict = json.load(f)\n",
    "        return config_dict\n",
    "    \n",
    "    def set_config(self, config_dict):\n",
    "        with open(self.config_path, 'w') as f:\n",
    "            json.dump(config_dict,f)\n",
    "        print(\"Set Config Success\")\n",
    "        \n",
    "    # Sometime the bert script will crash for no reason, and it will work after running again\n",
    "    def run_model(self,file_name):\n",
    "        fail_list = []\n",
    "        for model in self.model_list:\n",
    "            if not path.exists(\"{}/{}\".format(self.config_dict['output_dir'],model)):\n",
    "                print(\"Not exist\")\n",
    "                os.system('mkdir \\\"{}/{}\\\"'.format(self.config_dict[\"output_dir\"],model))\n",
    "            bert_script = [\"python\", '{}'.format(self.config_dict[\"script_name\"]), '--task_name=class_2', '--do_predict=True', \n",
    "                           '\\\"--data_dir={}/{}\\\"'.format(self.config_dict[\"data_dir\"],file_name), '\\\"--vocab_file={}/vocab.txt\\\"'.format(self.config_dict[\"pretrain_model_dir\"]),\n",
    "                           '\\\"--bert_config_file={}/bert_config.json\\\"'.format(self.config_dict[\"pretrain_model_dir\"]),\n",
    "                           '\\\"--init_checkpoint={}/{}/{}\\\"'.format(self.config_dict[\"finetune_mode_dir\"],model,self.config_dict[\"checkpoint\"]),\n",
    "                           '--max_seq_length={}'.format(self.config_dict[\"max_seq_length\"]),\n",
    "                           '\\\"--output_dir={}/{}\\\"'.format(self.config_dict[\"output_dir\"],model),\n",
    "                           '\\\"--output_tsv_name={}\\\"'.format(file_name)\n",
    "                          ]\n",
    "            print(' '.join(bert_script))\n",
    "            if os.system(' '.join(bert_script)) != 0:\n",
    "                fail_list.append(model)\n",
    "\n",
    "        if len(fail_list) == 0:\n",
    "            return 'All model predict Success'\n",
    "        else:\n",
    "            return \"{} fail!\".format('/'.join(fail_list))\n",
    "    \n",
    "    def combine_predict_result(self, file_name):\n",
    "        report_df = pd.DataFrame()\n",
    "        for key_issue in self.model_list:\n",
    "            tmp_df = pd.read_csv('{}/{}/{}'.format(self.config_dict[\"output_dir\"],key_issue,file_name),sep='\\t', names=['No',key_issue])\n",
    "            if report_df.empty:\n",
    "                report_df = tmp_df[key_issue].to_frame(name=key_issue)\n",
    "            else:\n",
    "                report_df[key_issue] = tmp_df[key_issue].values\n",
    "\n",
    "        report_df.to_csv('{}/{}_table.csv'.format(self.config_dict[\"output_table_dir\"], file_name[:-4])) "
   ]
  },
  {
   "cell_type": "code",
   "execution_count": null,
   "metadata": {
    "colab": {
     "base_uri": "https://localhost:8080/"
    },
    "executionInfo": {
     "elapsed": 735,
     "status": "ok",
     "timestamp": 1670482230603,
     "user": {
      "displayName": "王瑋",
      "userId": "00360454229684653994"
     },
     "user_tz": -480
    },
    "id": "Vfr2wZrmXswJ",
    "outputId": "0867e0be-fd63-4636-e5a8-c6d50459d728"
   },
   "outputs": [],
   "source": [
    "from modules.PredictModel import PredictModel\n",
    "model = PredictModel()\n",
    "model.get_config()"
   ]
  },
  {
   "cell_type": "code",
   "execution_count": null,
   "metadata": {
    "colab": {
     "base_uri": "https://localhost:8080/"
    },
    "executionInfo": {
     "elapsed": 1743939,
     "status": "ok",
     "timestamp": 1670472815485,
     "user": {
      "displayName": "王瑋",
      "userId": "00360454229684653994"
     },
     "user_tz": -480
    },
    "id": "QVBi744DUtrc",
    "outputId": "0fec3a88-fda7-4946-d920-c20d445b975c"
   },
   "outputs": [],
   "source": [
    "currTime = int(time.time())\n",
    "today = time.localtime(currTime)\n",
    "today = str(today.tm_year) + str(today.tm_mon) + str(today.tm_mday)\n",
    "# predict_msg = model.run_model(\"esgNews_{}.tsv\".format(today))\n",
    "predict_msg = model.run_model(\"esgNews_20221220.tsv\".format(today))\n",
    "print(predict_msg)"
   ]
  },
  {
   "cell_type": "code",
   "execution_count": 24,
   "metadata": {
    "colab": {
     "base_uri": "https://localhost:8080/",
     "height": 173
    },
    "executionInfo": {
     "elapsed": 1471,
     "status": "ok",
     "timestamp": 1670482238402,
     "user": {
      "displayName": "王瑋",
      "userId": "00360454229684653994"
     },
     "user_tz": -480
    },
    "id": "6faY9haozX58",
    "outputId": "7fa80902-fb7e-4807-f672-18d1794260c1"
   },
   "outputs": [
    {
     "data": {
      "text/html": [
       "<div>\n",
       "<style scoped>\n",
       "    .dataframe tbody tr th:only-of-type {\n",
       "        vertical-align: middle;\n",
       "    }\n",
       "\n",
       "    .dataframe tbody tr th {\n",
       "        vertical-align: top;\n",
       "    }\n",
       "\n",
       "    .dataframe thead th {\n",
       "        text-align: right;\n",
       "    }\n",
       "</style>\n",
       "<table border=\"1\" class=\"dataframe\">\n",
       "  <thead>\n",
       "    <tr style=\"text-align: right;\">\n",
       "      <th></th>\n",
       "      <th>Counts</th>\n",
       "    </tr>\n",
       "    <tr>\n",
       "      <th>Key Issues</th>\n",
       "      <th></th>\n",
       "    </tr>\n",
       "  </thead>\n",
       "  <tbody>\n",
       "    <tr>\n",
       "      <th>Biodiversity and Land Use</th>\n",
       "      <td>22</td>\n",
       "    </tr>\n",
       "    <tr>\n",
       "      <th>Carbon Emissions</th>\n",
       "      <td>56</td>\n",
       "    </tr>\n",
       "    <tr>\n",
       "      <th>Climate Change Vulnerability</th>\n",
       "      <td>0</td>\n",
       "    </tr>\n",
       "    <tr>\n",
       "      <th>Electronic Waste</th>\n",
       "      <td>0</td>\n",
       "    </tr>\n",
       "    <tr>\n",
       "      <th>Financing Environmental Impact</th>\n",
       "      <td>0</td>\n",
       "    </tr>\n",
       "    <tr>\n",
       "      <th>Opportunities in Clean Tech</th>\n",
       "      <td>0</td>\n",
       "    </tr>\n",
       "    <tr>\n",
       "      <th>Opportunities in Green Building</th>\n",
       "      <td>0</td>\n",
       "    </tr>\n",
       "    <tr>\n",
       "      <th>Opportunities in Renewable Energy</th>\n",
       "      <td>9</td>\n",
       "    </tr>\n",
       "    <tr>\n",
       "      <th>Packaging Material and Waste</th>\n",
       "      <td>3</td>\n",
       "    </tr>\n",
       "    <tr>\n",
       "      <th>Product Carbon Footprint</th>\n",
       "      <td>0</td>\n",
       "    </tr>\n",
       "    <tr>\n",
       "      <th>Raw Material Sourcing</th>\n",
       "      <td>0</td>\n",
       "    </tr>\n",
       "    <tr>\n",
       "      <th>Toxic Emissions and Waste</th>\n",
       "      <td>1</td>\n",
       "    </tr>\n",
       "    <tr>\n",
       "      <th>Water Stress</th>\n",
       "      <td>10</td>\n",
       "    </tr>\n",
       "    <tr>\n",
       "      <th>Accounting</th>\n",
       "      <td>0</td>\n",
       "    </tr>\n",
       "    <tr>\n",
       "      <th>Board</th>\n",
       "      <td>6</td>\n",
       "    </tr>\n",
       "    <tr>\n",
       "      <th>Business Ethics</th>\n",
       "      <td>25</td>\n",
       "    </tr>\n",
       "    <tr>\n",
       "      <th>Ownership and Control</th>\n",
       "      <td>0</td>\n",
       "    </tr>\n",
       "    <tr>\n",
       "      <th>Pay</th>\n",
       "      <td>0</td>\n",
       "    </tr>\n",
       "    <tr>\n",
       "      <th>Tax Transparency</th>\n",
       "      <td>0</td>\n",
       "    </tr>\n",
       "    <tr>\n",
       "      <th>Access to Communications</th>\n",
       "      <td>0</td>\n",
       "    </tr>\n",
       "    <tr>\n",
       "      <th>Access to Finance</th>\n",
       "      <td>0</td>\n",
       "    </tr>\n",
       "    <tr>\n",
       "      <th>Access to Health Care</th>\n",
       "      <td>9</td>\n",
       "    </tr>\n",
       "    <tr>\n",
       "      <th>Chemical Safety</th>\n",
       "      <td>0</td>\n",
       "    </tr>\n",
       "    <tr>\n",
       "      <th>Community Relations</th>\n",
       "      <td>9</td>\n",
       "    </tr>\n",
       "    <tr>\n",
       "      <th>Controversial Sourcing</th>\n",
       "      <td>0</td>\n",
       "    </tr>\n",
       "    <tr>\n",
       "      <th>Financial Product Safety</th>\n",
       "      <td>0</td>\n",
       "    </tr>\n",
       "    <tr>\n",
       "      <th>Health and Demographic Risk</th>\n",
       "      <td>1</td>\n",
       "    </tr>\n",
       "    <tr>\n",
       "      <th>Health and Safety</th>\n",
       "      <td>7</td>\n",
       "    </tr>\n",
       "    <tr>\n",
       "      <th>Human Capital Development</th>\n",
       "      <td>14</td>\n",
       "    </tr>\n",
       "    <tr>\n",
       "      <th>Labor Management</th>\n",
       "      <td>2</td>\n",
       "    </tr>\n",
       "    <tr>\n",
       "      <th>Opportunities in Nutrition and Health</th>\n",
       "      <td>1</td>\n",
       "    </tr>\n",
       "    <tr>\n",
       "      <th>Privacy and Data Security</th>\n",
       "      <td>1</td>\n",
       "    </tr>\n",
       "    <tr>\n",
       "      <th>Product Safety and Quality</th>\n",
       "      <td>0</td>\n",
       "    </tr>\n",
       "    <tr>\n",
       "      <th>Responsible Investment</th>\n",
       "      <td>0</td>\n",
       "    </tr>\n",
       "    <tr>\n",
       "      <th>Supply Chain Labor Standards</th>\n",
       "      <td>3</td>\n",
       "    </tr>\n",
       "  </tbody>\n",
       "</table>\n",
       "</div>"
      ],
      "text/plain": [
       "                                       Counts\n",
       "Key Issues                                   \n",
       "Biodiversity and Land Use                  22\n",
       "Carbon Emissions                           56\n",
       "Climate Change Vulnerability                0\n",
       "Electronic Waste                            0\n",
       "Financing Environmental Impact              0\n",
       "Opportunities in Clean Tech                 0\n",
       "Opportunities in Green Building             0\n",
       "Opportunities in Renewable Energy           9\n",
       "Packaging Material and Waste                3\n",
       "Product Carbon Footprint                    0\n",
       "Raw Material Sourcing                       0\n",
       "Toxic Emissions and Waste                   1\n",
       "Water Stress                               10\n",
       "Accounting                                  0\n",
       "Board                                       6\n",
       "Business Ethics                            25\n",
       "Ownership and Control                       0\n",
       "Pay                                         0\n",
       "Tax Transparency                            0\n",
       "Access to Communications                    0\n",
       "Access to Finance                           0\n",
       "Access to Health Care                       9\n",
       "Chemical Safety                             0\n",
       "Community Relations                         9\n",
       "Controversial Sourcing                      0\n",
       "Financial Product Safety                    0\n",
       "Health and Demographic Risk                 1\n",
       "Health and Safety                           7\n",
       "Human Capital Development                  14\n",
       "Labor Management                            2\n",
       "Opportunities in Nutrition and Health       1\n",
       "Privacy and Data Security                   1\n",
       "Product Safety and Quality                  0\n",
       "Responsible Investment                      0\n",
       "Supply Chain Labor Standards                3"
      ]
     },
     "metadata": {},
     "output_type": "display_data"
    }
   ],
   "source": [
    "import pandas as pd\n",
    "import numpy as np\n",
    "# result_1_df = pd.read_csv(\"./esgBERT_output/esgNews_{}_table.csv\".format(today), index_col=0)\n",
    "result_1_df = pd.read_csv(\"./esgBERT_output/esgNews_20221228_table.csv\", index_col=0)\n",
    "result_1_df['max'] = result_1_df.max(axis=1)\n",
    "filter_df = result_1_df[result_1_df['max'] >= 0.9].iloc[:,:-1]\n",
    "#沒有加columns就會是全部的index\n",
    "one_hot_df = pd.DataFrame(np.where(filter_df.T == filter_df.T.max(), 1, 0),index=filter_df.columns).T\n",
    "#one_hot_df = pd.DataFrame(np.where(filter_df.T == filter_df.T.max(), 1, 0),index=filter_df.columns, columns = filter_df.index).T\n",
    "all_df = one_hot_df.sum().to_frame(name=\"Counts\")\n",
    "#count_df.index.name = \"Key Issue\"\n",
    "# all_df = all_df.T\n",
    "all_df.index.name = \"Key Issues\"\n",
    "display(all_df)"
   ]
  },
  {
   "cell_type": "code",
   "execution_count": 16,
   "metadata": {},
   "outputs": [
    {
     "data": {
      "text/plain": [
       "Int64Index([0, 2], dtype='int64')"
      ]
     },
     "execution_count": 16,
     "metadata": {},
     "output_type": "execute_result"
    }
   ],
   "source": [
    "one_hot_df.loc[one_hot_df[all_df.idxmax().values[0]] == 1].index"
   ]
  },
  {
   "cell_type": "code",
   "execution_count": 17,
   "metadata": {
    "colab": {
     "base_uri": "https://localhost:8080/",
     "height": 485
    },
    "executionInfo": {
     "elapsed": 326,
     "status": "ok",
     "timestamp": 1670482302005,
     "user": {
      "displayName": "王瑋",
      "userId": "00360454229684653994"
     },
     "user_tz": -480
    },
    "id": "Q5LixzbF-2_Z",
    "outputId": "5a089dc8-ca45-4435-c48e-f7b83e8a4c0f"
   },
   "outputs": [
    {
     "data": {
      "text/html": [
       "<div>\n",
       "<style scoped>\n",
       "    .dataframe tbody tr th:only-of-type {\n",
       "        vertical-align: middle;\n",
       "    }\n",
       "\n",
       "    .dataframe tbody tr th {\n",
       "        vertical-align: top;\n",
       "    }\n",
       "\n",
       "    .dataframe thead th {\n",
       "        text-align: right;\n",
       "    }\n",
       "</style>\n",
       "<table border=\"1\" class=\"dataframe\">\n",
       "  <thead>\n",
       "    <tr style=\"text-align: right;\">\n",
       "      <th>Key Issues</th>\n",
       "      <th>Biodiversity and Land Use</th>\n",
       "      <th>Carbon Emissions</th>\n",
       "      <th>Climate Change Vulnerability</th>\n",
       "      <th>Electronic Waste</th>\n",
       "      <th>Financing Environmental Impact</th>\n",
       "      <th>Opportunities in Clean Tech</th>\n",
       "      <th>Opportunities in Green Building</th>\n",
       "      <th>Opportunities in Renewable Energy</th>\n",
       "      <th>Packaging Material and Waste</th>\n",
       "      <th>Product Carbon Footprint</th>\n",
       "      <th>...</th>\n",
       "      <th>Financial Product Safety</th>\n",
       "      <th>Health and Demographic Risk</th>\n",
       "      <th>Health and Safety</th>\n",
       "      <th>Human Capital Development</th>\n",
       "      <th>Labor Management</th>\n",
       "      <th>Opportunities in Nutrition and Health</th>\n",
       "      <th>Privacy and Data Security</th>\n",
       "      <th>Product Safety and Quality</th>\n",
       "      <th>Responsible Investment</th>\n",
       "      <th>Supply Chain Labor Standards</th>\n",
       "    </tr>\n",
       "  </thead>\n",
       "  <tbody>\n",
       "    <tr>\n",
       "      <th>0</th>\n",
       "      <td>0</td>\n",
       "      <td>0</td>\n",
       "      <td>0</td>\n",
       "      <td>0</td>\n",
       "      <td>0</td>\n",
       "      <td>0</td>\n",
       "      <td>0</td>\n",
       "      <td>0</td>\n",
       "      <td>0</td>\n",
       "      <td>0</td>\n",
       "      <td>...</td>\n",
       "      <td>0</td>\n",
       "      <td>0</td>\n",
       "      <td>0</td>\n",
       "      <td>0</td>\n",
       "      <td>0</td>\n",
       "      <td>0</td>\n",
       "      <td>0</td>\n",
       "      <td>0</td>\n",
       "      <td>0</td>\n",
       "      <td>0</td>\n",
       "    </tr>\n",
       "    <tr>\n",
       "      <th>1</th>\n",
       "      <td>0</td>\n",
       "      <td>0</td>\n",
       "      <td>0</td>\n",
       "      <td>0</td>\n",
       "      <td>0</td>\n",
       "      <td>0</td>\n",
       "      <td>0</td>\n",
       "      <td>0</td>\n",
       "      <td>0</td>\n",
       "      <td>0</td>\n",
       "      <td>...</td>\n",
       "      <td>0</td>\n",
       "      <td>0</td>\n",
       "      <td>0</td>\n",
       "      <td>0</td>\n",
       "      <td>0</td>\n",
       "      <td>0</td>\n",
       "      <td>0</td>\n",
       "      <td>0</td>\n",
       "      <td>0</td>\n",
       "      <td>0</td>\n",
       "    </tr>\n",
       "    <tr>\n",
       "      <th>2</th>\n",
       "      <td>0</td>\n",
       "      <td>0</td>\n",
       "      <td>0</td>\n",
       "      <td>0</td>\n",
       "      <td>0</td>\n",
       "      <td>0</td>\n",
       "      <td>0</td>\n",
       "      <td>0</td>\n",
       "      <td>0</td>\n",
       "      <td>0</td>\n",
       "      <td>...</td>\n",
       "      <td>0</td>\n",
       "      <td>0</td>\n",
       "      <td>0</td>\n",
       "      <td>0</td>\n",
       "      <td>0</td>\n",
       "      <td>0</td>\n",
       "      <td>0</td>\n",
       "      <td>0</td>\n",
       "      <td>0</td>\n",
       "      <td>0</td>\n",
       "    </tr>\n",
       "  </tbody>\n",
       "</table>\n",
       "<p>3 rows × 35 columns</p>\n",
       "</div>"
      ],
      "text/plain": [
       "Key Issues  Biodiversity and Land Use  Carbon Emissions  \\\n",
       "0                                   0                 0   \n",
       "1                                   0                 0   \n",
       "2                                   0                 0   \n",
       "\n",
       "Key Issues  Climate Change Vulnerability  Electronic Waste  \\\n",
       "0                                      0                 0   \n",
       "1                                      0                 0   \n",
       "2                                      0                 0   \n",
       "\n",
       "Key Issues  Financing Environmental Impact  Opportunities in Clean Tech  \\\n",
       "0                                        0                            0   \n",
       "1                                        0                            0   \n",
       "2                                        0                            0   \n",
       "\n",
       "Key Issues  Opportunities in Green Building  \\\n",
       "0                                         0   \n",
       "1                                         0   \n",
       "2                                         0   \n",
       "\n",
       "Key Issues  Opportunities in Renewable Energy  Packaging Material and Waste  \\\n",
       "0                                           0                             0   \n",
       "1                                           0                             0   \n",
       "2                                           0                             0   \n",
       "\n",
       "Key Issues  Product Carbon Footprint  ...  Financial Product Safety  \\\n",
       "0                                  0  ...                         0   \n",
       "1                                  0  ...                         0   \n",
       "2                                  0  ...                         0   \n",
       "\n",
       "Key Issues  Health and Demographic Risk  Health and Safety  \\\n",
       "0                                     0                  0   \n",
       "1                                     0                  0   \n",
       "2                                     0                  0   \n",
       "\n",
       "Key Issues  Human Capital Development  Labor Management  \\\n",
       "0                                   0                 0   \n",
       "1                                   0                 0   \n",
       "2                                   0                 0   \n",
       "\n",
       "Key Issues  Opportunities in Nutrition and Health  Privacy and Data Security  \\\n",
       "0                                               0                          0   \n",
       "1                                               0                          0   \n",
       "2                                               0                          0   \n",
       "\n",
       "Key Issues  Product Safety and Quality  Responsible Investment  \\\n",
       "0                                    0                       0   \n",
       "1                                    0                       0   \n",
       "2                                    0                       0   \n",
       "\n",
       "Key Issues  Supply Chain Labor Standards  \n",
       "0                                      0  \n",
       "1                                      0  \n",
       "2                                      0  \n",
       "\n",
       "[3 rows x 35 columns]"
      ]
     },
     "execution_count": 17,
     "metadata": {},
     "output_type": "execute_result"
    }
   ],
   "source": [
    "one_hot_df"
   ]
  },
  {
   "cell_type": "code",
   "execution_count": 2,
   "metadata": {},
   "outputs": [
    {
     "data": {
      "text/plain": [
       "'Your favorite climate thought leaders fled Twitter once Elon Musk took over in October. '"
      ]
     },
     "execution_count": 2,
     "metadata": {},
     "output_type": "execute_result"
    }
   ],
   "source": [
    "esgNews = pd.read_csv(\"./esgBERT_input/esgNews_20221229.tsv\", sep='\\t', names=['idx', 'sentence'], index_col=0)\n",
    "esgNews.iloc[2][\"sentence\"]"
   ]
  },
  {
   "cell_type": "code",
   "execution_count": 3,
   "metadata": {},
   "outputs": [
    {
     "data": {
      "text/html": [
       "<div>\n",
       "<style scoped>\n",
       "    .dataframe tbody tr th:only-of-type {\n",
       "        vertical-align: middle;\n",
       "    }\n",
       "\n",
       "    .dataframe tbody tr th {\n",
       "        vertical-align: top;\n",
       "    }\n",
       "\n",
       "    .dataframe thead th {\n",
       "        text-align: right;\n",
       "    }\n",
       "</style>\n",
       "<table border=\"1\" class=\"dataframe\">\n",
       "  <thead>\n",
       "    <tr style=\"text-align: right;\">\n",
       "      <th></th>\n",
       "      <th>sentence</th>\n",
       "    </tr>\n",
       "    <tr>\n",
       "      <th>idx</th>\n",
       "      <th></th>\n",
       "    </tr>\n",
       "  </thead>\n",
       "  <tbody>\n",
       "    <tr>\n",
       "      <th>0</th>\n",
       "      <td>You’re refreshing your go-to news sites every ...</td>\n",
       "    </tr>\n",
       "    <tr>\n",
       "      <th>1</th>\n",
       "      <td>You’re over the gloom, doom and \"both sides-is...</td>\n",
       "    </tr>\n",
       "    <tr>\n",
       "      <th>2</th>\n",
       "      <td>Your favorite climate thought leaders fled Twi...</td>\n",
       "    </tr>\n",
       "    <tr>\n",
       "      <th>3</th>\n",
       "      <td>Where can you find unique takes and data-drive...</td>\n",
       "    </tr>\n",
       "    <tr>\n",
       "      <th>4</th>\n",
       "      <td>Check your email.</td>\n",
       "    </tr>\n",
       "    <tr>\n",
       "      <th>...</th>\n",
       "      <td>...</td>\n",
       "    </tr>\n",
       "    <tr>\n",
       "      <th>182</th>\n",
       "      <td>Up to 2020, investments in CCS amounted to onl...</td>\n",
       "    </tr>\n",
       "    <tr>\n",
       "      <th>183</th>\n",
       "      <td>The Intergovernmental Panel on Climate Change ...</td>\n",
       "    </tr>\n",
       "    <tr>\n",
       "      <th>184</th>\n",
       "      <td>Will CCS be a critical part of reducing emissi...</td>\n",
       "    </tr>\n",
       "    <tr>\n",
       "      <th>185</th>\n",
       "      <td>Or will the technology turn out to be an ultra...</td>\n",
       "    </tr>\n",
       "    <tr>\n",
       "      <th>186</th>\n",
       "      <td>Billions of dollars as well as the health of t...</td>\n",
       "    </tr>\n",
       "  </tbody>\n",
       "</table>\n",
       "<p>187 rows × 1 columns</p>\n",
       "</div>"
      ],
      "text/plain": [
       "                                              sentence\n",
       "idx                                                   \n",
       "0    You’re refreshing your go-to news sites every ...\n",
       "1    You’re over the gloom, doom and \"both sides-is...\n",
       "2    Your favorite climate thought leaders fled Twi...\n",
       "3    Where can you find unique takes and data-drive...\n",
       "4                                   Check your email. \n",
       "..                                                 ...\n",
       "182  Up to 2020, investments in CCS amounted to onl...\n",
       "183  The Intergovernmental Panel on Climate Change ...\n",
       "184  Will CCS be a critical part of reducing emissi...\n",
       "185  Or will the technology turn out to be an ultra...\n",
       "186  Billions of dollars as well as the health of t...\n",
       "\n",
       "[187 rows x 1 columns]"
      ]
     },
     "execution_count": 3,
     "metadata": {},
     "output_type": "execute_result"
    }
   ],
   "source": [
    "esgNews"
   ]
  },
  {
   "cell_type": "code",
   "execution_count": 4,
   "metadata": {},
   "outputs": [
    {
     "data": {
      "text/plain": [
       "['You’re refreshing your go-to news sites every few hours, yet the stories remain stale. ',\n",
       " 'You’re over the gloom, doom and \"both sides-ism\" that stymies climate reporting by big-time media outlets. ',\n",
       " 'GreenBiz analysts and editors breathe the business of sustainability. ',\n",
       " 'She’s launching Substack chats Thursdays. ',\n",
       " \"(You’ll see plenty of her roommate’s dog, Fish, too.)Highlights:How journalists uncovered power companies' ploy to buy the pressTwitter's climate vigilantesA New York Times columnist went to Greenland and discovered fossil fuel talking pointsThe curious origins of the anti-ESG movementMichael Thomas is founder of the Carbon Switch  site, which offers sound consumer advice for electrifying homes, and his writings have run in The Atlantic and Fast Company. \",\n",
       " 'Highlights: I Joined 40 Clean Energy Opposition Groups on Facebook. ',\n",
       " 'Britt Wray, author of the new book \"Generation Dread,\" tackles the mental health side effects of the climate crisis head-on to help readers cultivate coping tools and resilience. ',\n",
       " 'She’s a human and planetary health postdoctoral fellow at Stanford University who also advises the Climate Mental Health Network . ',\n",
       " 'Highlights:Where is the global climate adaptation plan for human resilience?',\n",
       " 'How the fossil fuel industry seeds doomism to protect continued extractionEco-fascism is part of climate anxietyThis must-read comes from multi-hyphenate Bill McKibben, who teaches environmental journalism at Middlebury College, co-founded 350.org and recently launched Third Act to mobilize older adults on climate. ',\n",
       " '’s LinkedIn newsletter brings passionate optimism for adaptive reuse for the built environment. ',\n",
       " '\"So instead of focusing on the twists and turns of our current \\'highway to hell,\\' who is ready to build the highway out of climate hell?\" he wrote recently .',\n",
       " 'Highlights:No More Gaslighting?',\n",
       " 'COP27 Wasn\\'t ~Entirely~ A Cop-OutHaving a Breakdown ~Naturally~This \"newsletter for climate revolutionaries\" is entering its tenth year. ',\n",
       " 'Holthaus conceived of it when Elon Musk reinstated President Donald Trump on Twitter. ',\n",
       " 'The Phoenix is infrequent and includes guest writers.Highlights: Mutual aid as a climate solutionPlanting trees makes climate change worse. ',\n",
       " 'Yup, you read that right . ',\n",
       " 'She called out the \"Mad Men of climate denial\" and showed receipts. ',\n",
       " \"The podcast continues to connect the dots on the industry's double dealings, counting 1 million listeners. \",\n",
       " 'Also worth a listen is Westervelt’s recently folded Hot Take podcast with Mary Annaïse Heglar, where they lob occasional F-bombs and offer catharsis for those frustrated that \"the needle\" isn’t moving fast enough, especially on climate justice. ',\n",
       " 'Freelance writer and Civil Eats social media editor Bridgett Shirvell notes that her daughter will have drastically different childhood memories of North Carolina’s Outer Banks beaches than she did. ',\n",
       " 'She shares insights about this generational divide, with an eye to infusing care for the environment in the next generation.Highlights: Sands: How much of the world do we share with our kids when we know there are things we will not be able to save for them?',\n",
       " 'Can We Show Our Kids The World Without Harming It?',\n",
       " 'Conversations with Ghosts',\n",
       " 'JPMorgan Chase announced the expansion of its 2030 financed emissions targets to a series of new carbon-intensive sectors including Aviation, Iron and Steel, and Cement. ',\n",
       " 'The targets were unveiled with the release of the firm’s 2022 Climate Report, highlighting JPMorgan’s progress and approach to addressing climate risks and opportunities for the firm and its clients.The new targets form part of the company’s commitment, announced in October 2020 , to align its financing activities with the goals of Paris Agreement, and to help clients navigate the challenges and capitalize on the long-term economic and environmental benefits of transitioning to a low-carbon world.The targets also mark an expansion of the sectors covered by the firm’s 2030 financed emissions goals. ',\n",
       " 'In addition to their contribution to global emissions, JPMorgan said that the sectors were chosen with consideration given to the technical and economic maturity of their available decarbonization pathways.Each of the new targets were made with the intention to align with the International Energy Agency’s (IEA) Net Zero by 2050 scenario , according to the report, and each focuses on emissions intensity, or the emissions produced per unit of output. ',\n",
       " 'The demonstration will provide an illustration of people entering an office, the occupancy management AI device immediately detecting their presence and automatically activating the lightings, air conditioners, and/or smart office facilities in the workspace accordingly. ',\n",
       " 'When compared to a conventional infrared light sensor, the occupancy management device incorporating always-on ultralow power WiseEye technology delivers more accurate human occupancy detection, which can effectively filter out false alarms and avoid mis-operation. ',\n",
       " 'Iberdrola will implement various initiatives at this wind farm to improve the visibility of its wind turbines and deter the presence of certain species of birds in the area, installing bird detection equipment to avoid any collisions. ',\n",
       " 'A NEW ENERGY LANDSCAPE THAT FIXES POPULATION IN RURAL AREAS With this new wind farm, Iberdrola will reinforce its commitment to Castilla y León, which is consolidating its position as a major centre for renewable developments in the company’s investment cycle to 2025, where it already manages more than 5,100 MW, making it the autonomous community with the most ‘green’ megawatts installed by the company.  ',\n",
       " 'This is the case of the villages of Castile and Leon, surrounded by wind farms and photovoltaic plants that Iberdrola is promoting and which will contribute to a sustainable recovery, allowing the creation of local employment. ',\n",
       " 'In the province of Burgos alone, Iberdrola has recently built or is developing more than 550 megawatts between seven wind farms. ',\n",
       " 'In October, bp announced it had agreed to acquire Archaea, subject to regulatory and Archaea shareholder approval. ',\n",
       " 'Clean Energy Fuels Corp., the largest provider of the cleanest fuel for the transportation market, announced that it entered into a four-year $150 million sustainability-linked senior secured term loan with Riverstone Credit Partners L.P., a dedicated credit investment platform focused on energy, power, decarbonization, and infrastructure managed by Riverstone Holdings LLC. ',\n",
       " '“Our joint ventures with bp and TotalEnergies are having great success. We are currently constructing multiple RNG projects at dairies around the country with a healthy pipeline of other projects. This additional financing will allow us to stay on this rapid pace of development.” “Clean Energy pioneered RNG as a vehicle fuel and continues to be the largest provider of RNG for the transportation industry throughout North America. We are thrilled to partner with them on their quest to deliver fully zero-carbon RNG by 2025,” said Daniel Flannery, Managing Director at Riverstone. ',\n",
       " 'This comes at a critical time as the cost of utility power in the U.S continues to increase, while damaging weather events and grid instability are driving the need for more clean, cost-effective, resilient, and secure energy. ',\n",
       " 'See related article: Schneider Electric Releases Independent Research Studies That Reveal Sustainability Action GapInnovation Talks at CESSchneider Electric will also host a series of Innovation Talks in their booth throughout the meeting. ',\n",
       " 'In addition to the purchase of two operational biogas facilities, the parties have formed a partnership to serve as a long-term growth platform for the identification, development and operation of additional RNG projects; including an existing pipeline of identified RNG projects that are in various stages of development.Strategic Rationale The RNG platform to be acquired is diversified across feedstocks, geographies and revenue streams, and complements Suburban Renewables’ ongoing activity to construct, own and operate an RNG facility at Adirondack Farms in Peru, New York.  ',\n",
       " 'While the acquisition will immediately enhance and increase Suburban Renewables’ presence in RNG production and distribution, the partnership with Equilibrium through the joint venture arrangement will provide visible growth and experienced management in the rapidly developing waste-to-energy economy.  ',\n",
       " 'Luokung Technology Corp., a leading spatial-temporal intelligent big data services company and provider of interactive location-based services in China, announced that its operating affiliate, Luokung Remote Sensing Technology Co., Ltd. has signed agreements with the government of PingYuan county, MeiZhou city in Guangdong province to provide carbon sink project development and carbon emission and carbon neutrality data services covering the entire county, including but not limited to the fields of forestry, agriculture, grasslands, wetlands, clean energy and industry. ',\n",
       " 'The Company expects its new product to meet the needs of local governments to achieve positive outcomes for natural resource conservation and economic development.See related article: Japan’s Mitsui OSK, Kansai Electric sign MoU on carbon capture and storage Mr. Xuesong Song, Luokung’s Chairman and CEO, stated: “We are pleased to announce that one of Luokung’s business sectors, carbon neutrality and natural resources management, has made significant progress. With the active expansion in this area in the last six months, the Company has served many counties across the country as a “dual carbon” data service provider, which we believe is a testament of the market’s trust and recognition of Luokung’s capabilities in carbon neutrality and natural resource management data services. ',\n",
       " 'Luokung is prepared to build upon the positive momentum and plans to continue to take  an active role in net zero emissions and sustainable development.',\n",
       " 'CCS is either the climate tech breakthrough of the 21st century, according to its advocates, or a multibillion-dollar boondoggle, say  activists. ',\n",
       " 'Proponents claim that innovative, \"negative emissions\" CCS technology will play a major role in decarbonizing the global economy as part of an \"all of the above\" strategy required to make progress to net zero by 2050. ',\n",
       " 'Critics retort that CCS is an uneconomical distraction that misdirects investments that should be put toward the renewables needed to achieve the clean energy transition. ',\n",
       " 'Furthermore, it is championed by a fossil fuel industry that is the root source of generating the emissions that are the problem it proposes to resolve. ',\n",
       " 'So, CCS: Scheme or scam? ',\n",
       " 'The pros and cons are several and knotty, and answers so far are conditional — it’s complicated. ',\n",
       " 'The basic premise of CCS proffers a boldly simple solution to a complex issue. ',\n",
       " 'The Inflation Reduction Act allocates $369 billion to address climate change, and directs a significant portion to CCS — $7 billion — through expanded tax credits, raising its subsidy from $50 to $85 a metric ton. ',\n",
       " 'With the removal of millions of metric tons of CO2 being projected, that’s a lot of financial support. ',\n",
       " 'The bill also simplifies the process for receiving those tax credits, and it opens  the subsidy to smaller carbon capture projects.',\n",
       " '\"We cannot overemphasize the transformative effect that the Inflation Reduction Act will have on the deployment of carbon capture technologies,\" said  Matt Bright, carbon capture policy manager at the Clean Air Task Force.Companies have noticed. ',\n",
       " 'Both companies claim  more than 30 years experience in the field, with Mitsubishi having delivered 14 commercial capture plants worldwide.In another initiative, Exxon is partnering with CF Industries to capture and store up to 2 million metric tons of CO2 emissions annually from a plant in Louisiana, projecting a market of $4 trillion for CCS activities by 2050. ',\n",
       " 'Competing oil major Occidental Petroleum is building a plant to capture 500,000 metric tons of CO2 and earn money by selling carbon offsets. ',\n",
       " 'The company is also projecting  profits from selling \"net-zero oil\" produced by injecting more CO2 into oil reservoirs. ',\n",
       " 'Occidental’s strategy points to another often-hyped benefit of CCS projects: The ability to use captured and stored CO2 for other purposes. ',\n",
       " 'From fizzy drinks to fertilizer production, CO2 is a major component in industries that depend on the gas. ',\n",
       " 'More controversially, another use for captured CO2 is the pumping of the compressed gas into old oil wells to retrieve the remaining hydrocarbons, thereby enhancing fossil fuel production — an end result exactly contrary to that of reducing emissions in the first place. ',\n",
       " 'If oil and gas production and consumption is not reduced overall by 2050, they argue, there will be no achievement of a net-zero economy by that target date. ',\n",
       " 'In one example, Brookfield Asset Management has committed  up to $2 billion for three carbon capture businesses. ',\n",
       " 'Plants at one of the project developments, LanzaTech NZ, will convert the gas from industrial emissions into materials used in fuels, clothes and perfume.Naysayers say: Not so fast. ',\n",
       " 'A report by Institute for Energy Economics and Financial analysis IIEEFA finds  that the majority of 13 CCS projects currently operating have either failed entirely or captured much less CO2 than expected. ']"
      ]
     },
     "execution_count": 4,
     "metadata": {},
     "output_type": "execute_result"
    }
   ],
   "source": [
    "most_ky_sentences = [esgNews.iloc[idx][\"sentence\"] for idx in one_hot_df.loc[one_hot_df[all_df.idxmax().values[0]] == 1].index]\n",
    "# most_ky_sentences = [esgNews.iloc[idx][\"sentence\"] for idx in one_hot_df.loc[one_hot_df[\"Human Capital Development\"] == 1].index]\n",
    "most_ky_sentences"
   ]
  },
  {
   "cell_type": "code",
   "execution_count": 13,
   "metadata": {},
   "outputs": [],
   "source": [
    "with open(\"./outputfile\", \"w\") as opfile:\n",
    "    opfile.write(\"\\n\".join(most_ky_sentences))"
   ]
  },
  {
   "cell_type": "code",
   "execution_count": 5,
   "metadata": {},
   "outputs": [
    {
     "data": {
      "text/plain": [
       "['A report by Institute for Energy Economics and Financial analysis IIEEFA finds  that the majority of 13 CCS projects currently operating have either failed entirely or captured much less CO2 than expected. ',\n",
       " 'With the removal of millions of metric tons of CO2 being projected, that’s a lot of financial support. ',\n",
       " 'Iberdrola will implement various initiatives at this wind farm to improve the visibility of its wind turbines and deter the presence of certain species of birds in the area, installing bird detection equipment to avoid any collisions. ',\n",
       " 'The company is also projecting  profits from selling \"net-zero oil\" produced by injecting more CO2 into oil reservoirs. ',\n",
       " 'How the fossil fuel industry seeds doomism to protect continued extractionEco-fascism is part of climate anxietyThis must-read comes from multi-hyphenate Bill McKibben, who teaches environmental journalism at Middlebury College, co-founded 350.org and recently launched Third Act to mobilize older adults on climate. ',\n",
       " 'Competing oil major Occidental Petroleum is building a plant to capture 500,000 metric tons of CO2 and earn money by selling carbon offsets. ',\n",
       " 'Highlights:No More Gaslighting?',\n",
       " 'Critics retort that CCS is an uneconomical distraction that misdirects investments that should be put toward the renewables needed to achieve the clean energy transition. ',\n",
       " 'The pros and cons are several and knotty, and answers so far are conditional — it’s complicated. ',\n",
       " 'You’re over the gloom, doom and \"both sides-ism\" that stymies climate reporting by big-time media outlets. ',\n",
       " 'Both companies claim  more than 30 years experience in the field, with Mitsubishi having delivered 14 commercial capture plants worldwide.In another initiative, Exxon is partnering with CF Industries to capture and store up to 2 million metric tons of CO2 emissions annually from a plant in Louisiana, projecting a market of $4 trillion for CCS activities by 2050. ',\n",
       " \"The podcast continues to connect the dots on the industry's double dealings, counting 1 million listeners. \",\n",
       " 'A NEW ENERGY LANDSCAPE THAT FIXES POPULATION IN RURAL AREAS With this new wind farm, Iberdrola will reinforce its commitment to Castilla y León, which is consolidating its position as a major centre for renewable developments in the company’s investment cycle to 2025, where it already manages more than 5,100 MW, making it the autonomous community with the most ‘green’ megawatts installed by the company.  ',\n",
       " 'The Inflation Reduction Act allocates $369 billion to address climate change, and directs a significant portion to CCS — $7 billion — through expanded tax credits, raising its subsidy from $50 to $85 a metric ton. ',\n",
       " 'The bill also simplifies the process for receiving those tax credits, and it opens  the subsidy to smaller carbon capture projects.',\n",
       " '\"So instead of focusing on the twists and turns of our current \\'highway to hell,\\' who is ready to build the highway out of climate hell?\" he wrote recently .',\n",
       " 'While the acquisition will immediately enhance and increase Suburban Renewables’ presence in RNG production and distribution, the partnership with Equilibrium through the joint venture arrangement will provide visible growth and experienced management in the rapidly developing waste-to-energy economy.  ',\n",
       " 'Holthaus conceived of it when Elon Musk reinstated President Donald Trump on Twitter. ',\n",
       " 'When compared to a conventional infrared light sensor, the occupancy management device incorporating always-on ultralow power WiseEye technology delivers more accurate human occupancy detection, which can effectively filter out false alarms and avoid mis-operation. ',\n",
       " 'Can We Show Our Kids The World Without Harming It?',\n",
       " 'Plants at one of the project developments, LanzaTech NZ, will convert the gas from industrial emissions into materials used in fuels, clothes and perfume.Naysayers say: Not so fast. ',\n",
       " 'Freelance writer and Civil Eats social media editor Bridgett Shirvell notes that her daughter will have drastically different childhood memories of North Carolina’s Outer Banks beaches than she did. ',\n",
       " 'In the province of Burgos alone, Iberdrola has recently built or is developing more than 550 megawatts between seven wind farms. ',\n",
       " 'COP27 Wasn\\'t ~Entirely~ A Cop-OutHaving a Breakdown ~Naturally~This \"newsletter for climate revolutionaries\" is entering its tenth year. ',\n",
       " 'This is the case of the villages of Castile and Leon, surrounded by wind farms and photovoltaic plants that Iberdrola is promoting and which will contribute to a sustainable recovery, allowing the creation of local employment. ',\n",
       " 'Luokung is prepared to build upon the positive momentum and plans to continue to take  an active role in net zero emissions and sustainable development.',\n",
       " 'Conversations with Ghosts',\n",
       " 'She’s a human and planetary health postdoctoral fellow at Stanford University who also advises the Climate Mental Health Network . ',\n",
       " 'JPMorgan Chase announced the expansion of its 2030 financed emissions targets to a series of new carbon-intensive sectors including Aviation, Iron and Steel, and Cement. ',\n",
       " '’s LinkedIn newsletter brings passionate optimism for adaptive reuse for the built environment. ']"
      ]
     },
     "execution_count": 5,
     "metadata": {},
     "output_type": "execute_result"
    }
   ],
   "source": [
    "import random\n",
    "choose_count = 30 if len(most_ky_sentences) >= 30 else len(most_ky_sentences)\n",
    "most_ky_sentences = random.sample(most_ky_sentences,choose_count) # Choose random 30 sentences from most counts key issue\n",
    "most_ky_sentences"
   ]
  },
  {
   "cell_type": "code",
   "execution_count": null,
   "metadata": {
    "colab": {
     "base_uri": "https://localhost:8080/",
     "height": 633
    },
    "executionInfo": {
     "elapsed": 3707,
     "status": "ok",
     "timestamp": 1670482308495,
     "user": {
      "displayName": "王瑋",
      "userId": "00360454229684653994"
     },
     "user_tz": -480
    },
    "id": "fCbEFBsPA3LJ",
    "outputId": "6b5a9f2d-e5a0-4d2e-92f3-7e571285f38c"
   },
   "outputs": [],
   "source": [
    "new_df = pd.DataFrame(np.where(filter_df.T == filter_df.T.max(), 1, 0),index=filter_df.columns).T\n",
    "sentence_categories = {} # {'Key Issue': ['sentence']}\n",
    "sentences_df = pd.read_csv('/content/drive/MyDrive/Colab_Notebooks/ESG_Step4/ESGNews.tsv', header=None, sep='\\t')\n",
    "for column in new_df.columns:\n",
    "    sentence_categories[column] = [sentences_df.loc[ind][1] for ind, value in enumerate(new_df.loc[:, column]) if value == 1]\n",
    "\n",
    "keyIssues_df = pd.DataFrame.from_dict(sentence_categories, orient='index')\n",
    "keyIssues_df.insert(0, 'count', [len(sentence_categories[column]) for column in new_df.columns])\n",
    "display(keyIssues_df)\n",
    "\n",
    "keyIssues_df.to_csv(\"ESGNews-sentences-sorted.csv\")"
   ]
  },
  {
   "cell_type": "code",
   "execution_count": null,
   "metadata": {
    "id": "Tbmnhw8GFlH2"
   },
   "outputs": [],
   "source": [
    "tmp = keyIssues_df.T\n",
    "tmp = tmp[:50]\n",
    "tmp.to_csv(\"ESGNews-50-sentences-sorted.csv\")"
   ]
  },
  {
   "cell_type": "code",
   "execution_count": null,
   "metadata": {
    "colab": {
     "base_uri": "https://localhost:8080/",
     "height": 1000
    },
    "executionInfo": {
     "elapsed": 631,
     "status": "ok",
     "timestamp": 1670475035950,
     "user": {
      "displayName": "王瑋",
      "userId": "00360454229684653994"
     },
     "user_tz": -480
    },
    "id": "21IiBz7YCZvX",
    "outputId": "8fd90267-16a3-4f78-c764-9d05d0b0bfc1"
   },
   "outputs": [],
   "source": [
    "pd.set_option('display.max_colwidth', None)\n",
    "test = keyIssues_df.T\n",
    "test"
   ]
  },
  {
   "cell_type": "markdown",
   "metadata": {},
   "source": [
    "## GPT generation"
   ]
  },
  {
   "cell_type": "code",
   "execution_count": 6,
   "metadata": {},
   "outputs": [],
   "source": [
    "import os\n",
    "import openai\n",
    "from modules.secret import setup_api_key\n",
    "\n",
    "setup_api_key() # adds api key to env\n",
    "openai.organization = \"org-hpKR7cri3YnOlgPZqIAZXtZv\"\n",
    "openai.api_key = os.getenv(\"OPENAI_API_KEY\")"
   ]
  },
  {
   "cell_type": "code",
   "execution_count": 10,
   "metadata": {},
   "outputs": [],
   "source": [
    "prompt_input = '\\n'.join(most_ky_sentences) + \"\\nWrite about 100 words tweet to summarize the news above (IMPORTANT: under 150 characters limit):\\n\"\n",
    "response = openai.Completion.create(\n",
    "  model=\"text-davinci-003\",\n",
    "  prompt=prompt_input,\n",
    "  temperature=0.7,\n",
    "  max_tokens=200, # Suggestion max_tokens > 256\n",
    "  top_p=1.0,\n",
    "  frequency_penalty=0.0,\n",
    "  presence_penalty=0.0\n",
    ")"
   ]
  },
  {
   "cell_type": "code",
   "execution_count": 11,
   "metadata": {},
   "outputs": [
    {
     "name": "stdout",
     "output_type": "stream",
     "text": [
      "142 \n",
      "The news discusses the importance of having strong relationships with people to nurture growth and success. #LifeLessons #RelationshipsMatter\n"
     ]
    }
   ],
   "source": [
    "tweet = response['choices'][0].text\n",
    "print(len(tweet), tweet)"
   ]
  },
  {
   "cell_type": "code",
   "execution_count": 68,
   "metadata": {},
   "outputs": [
    {
     "data": {
      "text/plain": [
       "264"
      ]
     },
     "execution_count": 68,
     "metadata": {},
     "output_type": "execute_result"
    }
   ],
   "source": [
    "len(tweet)"
   ]
  },
  {
   "cell_type": "markdown",
   "metadata": {
    "id": "ht-WbsNS4PB9"
   },
   "source": [
    "## Twitter Test"
   ]
  },
  {
   "cell_type": "code",
   "execution_count": 16,
   "metadata": {
    "executionInfo": {
     "elapsed": 319,
     "status": "ok",
     "timestamp": 1670908510202,
     "user": {
      "displayName": "王瑋",
      "userId": "00360454229684653994"
     },
     "user_tz": -480
    },
    "id": "XMbHLRmk40c_",
    "scrolled": false
   },
   "outputs": [],
   "source": [
    "import numpy as np\n",
    "import tweepy\n",
    "\n",
    "#variables for accessing twitter API\n",
    "consumer_key='VVRuSF8zMLk7ERaCSc4ulZ4iM'\n",
    "consumer_secret='KlYaRsIRH1HxBUjNq24sUts09w08dtu3QT6iioR2sWrat441PE'\n",
    "access_token = \"1602909982223400960-lFst1DZAYe9DWTL5NLxqCcj3oaWSXY\"\n",
    "access_token_secret = \"gDhK48DtsCRY6xAocdHQp77cjWjcyXthRZOPZhYHph40W\"\n",
    "\n",
    "# OAuth 2.0 Bearer Token (App-Only)\n",
    "# bearer_token = 'AAAAAAAAAAAAAAAAAAAAAMCxkQEAAAAA4cdJtTzMqDXuEul4uLV3NpFiQZs%3D3sI96h49nRftDbpYg43Hrg0mEj4F4RDQQrj4NAPNaq8L0MpE3b'\n",
    "\n",
    "# Oauth2.0 Client ID & Sercet\n",
    "# ClientID = 'bGI2ZE94SGpSNE9sOHdlY19IN0o6MTpjaQ'\n",
    "# Client_sercet = '1MW-luKC73asmNkWkf1AxxS8zTZsO9PKwmmfiVzlD-e2yixGY8'"
   ]
  },
  {
   "cell_type": "code",
   "execution_count": 69,
   "metadata": {},
   "outputs": [
    {
     "name": "stdout",
     "output_type": "stream",
     "text": [
      "Response(data={'id': '1605839441594970112', 'text': 'CNN\\'s Jeff Licht is making changes, from killing the network\\'s streaming service to focusing on https://t.co/E0WDZZvBsR. He\\'s also bringing Republicans back to the network, while pushing for a \"rational conversation about polarizing issues.\" #CNN #JeffLicht #RationalConversation'}, includes={}, errors=[], meta={})\n"
     ]
    }
   ],
   "source": [
    "client = tweepy.Client(\n",
    "    consumer_key=consumer_key, consumer_secret=consumer_secret,\n",
    "    access_token=access_token, access_token_secret=access_token_secret\n",
    ")\n",
    "\n",
    "# Replace the text with whatever you want to Tweet about\n",
    "response = client.create_tweet(text=tweet[:280])\n",
    "\n",
    "print(response)"
   ]
  }
 ],
 "metadata": {
  "celltoolbar": "Raw Cell Format",
  "colab": {
   "provenance": []
  },
  "gpuClass": "standard",
  "kernelspec": {
   "display_name": "Python 3",
   "language": "python",
   "name": "python3"
  },
  "language_info": {
   "codemirror_mode": {
    "name": "ipython",
    "version": 3
   },
   "file_extension": ".py",
   "mimetype": "text/x-python",
   "name": "python",
   "nbconvert_exporter": "python",
   "pygments_lexer": "ipython3",
   "version": "3.9.6"
  },
  "vscode": {
   "interpreter": {
    "hash": "218a1e21be055ece6a21190b433be4a671328a03daf1d7d00c70240dca247292"
   }
  }
 },
 "nbformat": 4,
 "nbformat_minor": 1
}
